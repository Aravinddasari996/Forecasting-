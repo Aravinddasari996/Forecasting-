{
 "cells": [
  {
   "cell_type": "code",
   "execution_count": 14,
   "id": "0b5ae307",
   "metadata": {},
   "outputs": [
    {
     "data": {
      "text/plain": [
       "DeltaGenerator()"
      ]
     },
     "execution_count": 14,
     "metadata": {},
     "output_type": "execute_result"
    }
   ],
   "source": [
    "import streamlit as st\n",
    "import pandas as pd\n",
    "import numpy as np\n",
    "import matplotlib.pyplot as plt\n",
    "from statsmodels.tsa.arima.model import ARIMA\n",
    "import pickle\n",
    "import arch\n",
    "from sklearn.preprocessing import MinMaxScaler\n",
    "import plotly.express as px\n",
    "import plotly.graph_objects as go\n",
    "\n",
    "\n",
    "\n",
    "background_image = \"\"\"\n",
    "<style>\n",
    "[data-testid=\"stAppViewContainer\"] > .main {\n",
    "    background-image: url(\"https://blog.close.com/content/images/2021/01/sales-forecast-templates.jpg\");\n",
    "    background-size: 100vw 100vh;  # This sets the size to cover 100% of the viewport width and height\n",
    "    background-position: center;  \n",
    "    background-repeat: no-repeat;\n",
    "}\n",
    "</style>\n",
    "\"\"\"\n",
    "\n",
    "st.markdown(background_image, unsafe_allow_html=True)\n",
    "\n",
    "scalerMM =  MinMaxScaler()\n",
    "\n",
    "with open('modelARIMA.pkl', 'rb') as f:\n",
    "    loadedARIMA = pickle.load(f)\n",
    "    \n",
    "with open('resultGarch.pkl', 'rb') as f:\n",
    "    loadedGARCH = pickle.load(f)\n",
    "\n",
    "def forecast(HORIZON):\n",
    "    \n",
    "        forecastARIMA = loadedARIMA.forecast(HORIZON)\n",
    "        forecastGARCH = loadedGARCH.forecast(horizon=HORIZON)\n",
    "        varGARCH = forecastGARCH.variance.values[-1,:]\n",
    "        varGARCH = scalerMM.fit_transform(forecastGARCH.variance.values[-1, :].reshape(-1, 1))\n",
    "        \n",
    "        brentForecast = forecastARIMA.mean() + varGARCH\n",
    "        \n",
    "        return  brentForecast\n",
    "        \n",
    "st.text(\" Created by:P317G1:07/12/2023 \\n Powered by: GARCH + ARIMA\")\n",
    "\n",
    "st.title(\"BrentPredict\")\n",
    "\n",
    "st.text(\"Caution: This is not a financial advice !\")\n",
    "\n",
    "user_input = st.number_input(\"Enter HORIZON (Forecasting periods)\",1)\n",
    "\n",
    "HORIZON = int(user_input)\n",
    "\n",
    "if HORIZON:\n",
    "     \n",
    "    brentForecast = forecast(HORIZON)\n",
    "#     fig = px.line(x= np.arange(1,HORIZON+1), y = brentForecast, markers=True, line_shape='linear', width=800, height=300 ,\n",
    "#                     labels={'y': 'Brent Crude Price ($)', 'x': 'Horizon'})\n",
    "\n",
    "#     st.plotly_chart(fig)\n",
    "\n",
    "\n",
    "    fig = go.Figure()\n",
    "    fig.add_trace(go.Scatter(x=np.arange(1, HORIZON + 1), y=brentForecast, mode='lines+markers', line_shape='linear'))\n",
    "\n",
    "    fig.update_layout(\n",
    "        width=800,\n",
    "        height=300,\n",
    "        xaxis_title='Horizon',\n",
    "        yaxis_title='Brent Crude Price ($)',\n",
    "        title='Brent Crude Price Forecast'\n",
    "    )\n",
    "\n",
    "st.plotly_chart(fig)\n",
    "\n",
    "\n"
   ]
  },
  {
   "cell_type": "code",
   "execution_count": null,
   "id": "6669139a",
   "metadata": {},
   "outputs": [],
   "source": []
  }
 ],
 "metadata": {
  "kernelspec": {
   "display_name": "Python 3 (ipykernel)",
   "language": "python",
   "name": "python3"
  },
  "language_info": {
   "codemirror_mode": {
    "name": "ipython",
    "version": 3
   },
   "file_extension": ".py",
   "mimetype": "text/x-python",
   "name": "python",
   "nbconvert_exporter": "python",
   "pygments_lexer": "ipython3",
   "version": "3.10.9"
  }
 },
 "nbformat": 4,
 "nbformat_minor": 5
}
